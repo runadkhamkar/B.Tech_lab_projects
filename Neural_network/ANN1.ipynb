{
 "cells": [
  {
   "cell_type": "code",
   "execution_count": 48,
   "metadata": {},
   "outputs": [
    {
     "name": "stdout",
     "output_type": "stream",
     "text": [
      "Enter total number of input=4\n",
      "Enter input=\n",
      "2\n",
      "3\n",
      "5\n",
      "4\n",
      "Enter weigth=\n",
      "3\n",
      "-1\n",
      "2\n",
      "-5\n",
      "Enter 1:unipolar Threshold     2:bipolar threshold      3:unipolar signoid     4:bipolar signoid3\n",
      "Enter lambda value=5\n",
      "('Result=', 6.305116760146985e-16)\n"
     ]
    }
   ],
   "source": [
    "import numpy as np\n",
    "import math\n",
    "n=input(\"Enter total number of input=\")\n",
    "x=[]\n",
    "j=0\n",
    "print(\"Enter input=\")\n",
    "while(j<n):\n",
    "    s=input()\n",
    "    x.append(s)\n",
    "    j=j+1\n",
    "y=[]\n",
    "j=0\n",
    "print(\"Enter weigth=\")\n",
    "while(j<n):\n",
    "    s=input()\n",
    "    y.append(s)\n",
    "    j=j+1\n",
    "x=np.asarray(x)\n",
    "w=np.asarray(y)\n",
    "net=np.dot(x,w)\n",
    "c=input(\"Enter 1:unipolar Threshold     2:bipolar threshold      3:unipolar signoid     4:bipolar signoid\")\n",
    "if(c==1):\n",
    "    if(net>=0):\n",
    "        print(\"Output=1\")\n",
    "    else:\n",
    "        print(\"output=0\")\n",
    "if(c==2):\n",
    "    if(net>=0):\n",
    "        print(\"Output=1\")\n",
    "    else:\n",
    "        print(\"output=-1\")\n",
    "if(c==3):\n",
    "    l=input(\"Enter lambda value=\")\n",
    "    x=l*net\n",
    "    \n",
    "    r=math.exp(-x)\n",
    "    print(\"Result=\",1/(1+r))\n",
    "if(c==4):\n",
    "    l=input(\"Enter lambda value=\")\n",
    "    x=l*net\n",
    "    \n",
    "    r=math.exp(-x)\n",
    "    print(\"Result=\",(1-r)/(1+r))"
   ]
  },
  {
   "cell_type": "code",
   "execution_count": 69,
   "metadata": {},
   "outputs": [
    {
     "data": {
      "image/png": "[encoded data removed]",
      "text/plain": [
       "<matplotlib.figure.Figure at 0x7f40c18e7690>"
      ]
     },
     "metadata": {},
     "output_type": "display_data"
    },
    {
     "data": {
      "image/png": "[encoded data removed]",
      "text/plain": [
       "<matplotlib.figure.Figure at 0x7f40bff54d90>"
      ]
     },
     "metadata": {},
     "output_type": "display_data"
    }
   ],
   "source": [
    "a=np.random.random(4)\n",
    "a=np.asarray(a)\n",
    "net=np.dot(a,w)\n",
    "l=10\n",
    "x=l*net\n",
    "r=math.exp(-x)\n",
    "o=1/(1+r)\n",
    "plt.scatter(net,o)\n",
    "plt.show()\n",
    "    "
   ]
  },
  {
   "cell_type": "code",
   "execution_count": null,
   "metadata": {
    "collapsed": true
   },
   "outputs": [],
   "source": []
  }
 ],
 "metadata": {
  "kernelspec": {
   "display_name": "Python 2",
   "language": "python",
   "name": "python2"
  },
  "language_info": {
   "codemirror_mode": {
    "name": "ipython",
    "version": 2
   },
   "file_extension": ".py",
   "mimetype": "text/x-python",
   "name": "python",
   "nbconvert_exporter": "python",
   "pygments_lexer": "ipython2",
   "version": "2.7.14"
  }
 },
 "nbformat": 4,
 "nbformat_minor": 2
}
