{
 "cells": [
  {
   "cell_type": "code",
   "execution_count": 5,
   "metadata": {},
   "outputs": [
    {
     "data": {
      "text/plain": [
       "array([-1,  5, -1])"
      ]
     },
     "execution_count": 5,
     "metadata": {},
     "output_type": "execute_result"
    }
   ],
   "source": [
    "import numpy as np\n",
    "import math\n",
    "import random\n",
    "y=[[0,0,1],[0,1,1],[1,0,1],[1,1,1]]\n",
    "d=[-1,1,1,1]\n",
    "w=[]\n",
    "for i in range(0,3):\n",
    "    w.append(random.randint(-5,5))\n",
    "y=np.asarray(y)\n",
    "d=np.asarray(d)\n",
    "w=np.asarray(w)\n",
    "w"
   ]
  },
  {
   "cell_type": "code",
   "execution_count": 6,
   "metadata": {
    "collapsed": true
   },
   "outputs": [],
   "source": [
    "c=1\n",
    "E=10\n",
    "step=0\n",
    "cycle=0"
   ]
  },
  {
   "cell_type": "code",
   "execution_count": 7,
   "metadata": {},
   "outputs": [
    {
     "name": "stdout",
     "output_type": "stream",
     "text": [
      "0.000999499043542\n"
     ]
    }
   ],
   "source": [
    "while(E>0.001):\n",
    "    E=0\n",
    "    cycle=cycle+1\n",
    "    for i in range(0,4):\n",
    "        step=step+1\n",
    "        net=np.dot(y[i],w)\n",
    "        #print net\n",
    "        r=math.exp(-net)\n",
    "        o=(1-r)/(1+r)\n",
    "        if(o!=d[i]):\n",
    "            w=w+(d[i]-o)*(1-(o*o))*y[i]\n",
    "            #print w\n",
    "        E=E+(0.5)*(d[i]-o)*(d[i]-o)\n",
    "print E\n",
    "        #print E"
   ]
  },
  {
   "cell_type": "code",
   "execution_count": 8,
   "metadata": {},
   "outputs": [
    {
     "name": "stdout",
     "output_type": "stream",
     "text": [
      "[ 8.62190221  8.62408621 -4.07650983] 4664 1166\n"
     ]
    }
   ],
   "source": [
    "print w,step,cycle"
   ]
  },
  {
   "cell_type": "code",
   "execution_count": 10,
   "metadata": {},
   "outputs": [
    {
     "name": "stdout",
     "output_type": "stream",
     "text": [
      "-0.966632967001\n",
      "0.979036371815\n",
      "0.97899101881\n",
      "0.999996184097\n"
     ]
    }
   ],
   "source": [
    "for i in range(0,4):    \n",
    "    net=np.dot(w,y[i])\n",
    "    r=math.exp(-net)\n",
    "    o=(1-r)/(1+r)\n",
    "    print o"
   ]
  },
  {
   "cell_type": "code",
   "execution_count": null,
   "metadata": {
    "collapsed": true
   },
   "outputs": [],
   "source": []
  }
 ],
 "metadata": {
  "kernelspec": {
   "display_name": "Python 2",
   "language": "python",
   "name": "python2"
  },
  "language_info": {
   "codemirror_mode": {
    "name": "ipython",
    "version": 2
   },
   "file_extension": ".py",
   "mimetype": "text/x-python",
   "name": "python",
   "nbconvert_exporter": "python",
   "pygments_lexer": "ipython2",
   "version": "2.7.14"
  }
 },
 "nbformat": 4,
 "nbformat_minor": 2
}
