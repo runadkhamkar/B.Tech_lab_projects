{
 "cells": [
  {
   "cell_type": "code",
   "execution_count": 9,
   "metadata": {},
   "outputs": [
    {
     "name": "stdout",
     "output_type": "stream",
     "text": [
      "[[ 1 -2  0]\n",
      " [ 0 -1  2]\n",
      " [ 1  3 -1]]\n"
     ]
    }
   ],
   "source": [
    "import numpy as np\n",
    "import random\n",
    "import math\n",
    "m=[[random.randint(-5,5) for i in range(0,3)]for j in range(0,3)]\n",
    "y=[[10,2,-1],[2,-5,-1],[-5,5,-1]]\n",
    "d=[[1,-1,-1],[-1,1,-1],[-1,-1,1]]\n",
    "w=[[1,-2,0],[0,-1,2],[1,3,-1]]\n",
    "w=np.asarray(w)\n",
    "y=np.asarray(y)\n",
    "d=np.asarray(d)\n",
    "print w"
   ]
  },
  {
   "cell_type": "code",
   "execution_count": 10,
   "metadata": {
    "collapsed": true
   },
   "outputs": [],
   "source": [
    "E=10\n",
    "net=[0 for i in range(0,3)]\n",
    "o=[0 for i in range(0,3)]\n",
    "step=0\n",
    "cycle=0"
   ]
  },
  {
   "cell_type": "code",
   "execution_count": null,
   "metadata": {
    "collapsed": true
   },
   "outputs": [],
   "source": [
    "while(E<0.001):\n",
    "    E=0\n",
    "    cycle+=1\n",
    "    for i in range(0,3):\n",
    "        step+=1\n",
    "        for j in range(0,3):"
   ]
  },
  {
   "cell_type": "code",
   "execution_count": 11,
   "metadata": {},
   "outputs": [],
   "source": [
    "while(E>0):\n",
    "    E=0\n",
    "    cycle+=1\n",
    "    for i in range(0,3):\n",
    "        step+=1\n",
    "        for j in range(0,3):\n",
    "            net=np.dot(w[j],y[i])\n",
    "            if(net<0):\n",
    "                o[j]=-1\n",
    "            else:\n",
    "                o[j]=1\n",
    "            w[j]=w[j]+0.5*(d[i][j]-o[j])*y[i]\n",
    "            E=E+0.5*(d[i][j]-o[j])*(d[i][j]-o[j])"
   ]
  },
  {
   "cell_type": "code",
   "execution_count": 12,
   "metadata": {},
   "outputs": [
    {
     "name": "stdout",
     "output_type": "stream",
     "text": [
      "Cycle 4 Steps= 12\n",
      "Weight matrix=\n",
      "[[ 5  3  5]\n",
      " [ 0 -1  2]\n",
      " [-9  1  0]]\n"
     ]
    }
   ],
   "source": [
    "print\"Cycle\",cycle,\"Steps=\",step\n",
    "print \"Weight matrix=\"\n",
    "print w"
   ]
  }
 ],
 "metadata": {
  "kernelspec": {
   "display_name": "Python 2",
   "language": "python",
   "name": "python2"
  },
  "language_info": {
   "codemirror_mode": {
    "name": "ipython",
    "version": 2
   },
   "file_extension": ".py",
   "mimetype": "text/x-python",
   "name": "python",
   "nbconvert_exporter": "python",
   "pygments_lexer": "ipython2",
   "version": "2.7.14"
  }
 },
 "nbformat": 4,
 "nbformat_minor": 2
}
