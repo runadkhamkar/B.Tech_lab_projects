{
 "cells": [
  {
   "cell_type": "code",
   "execution_count": 142,
   "metadata": {
    "collapsed": true
   },
   "outputs": [],
   "source": [
    "import random\n",
    "w=[random.randint(-2,2) for i in range(0,3)]\n",
    "v=[[random.randint(-2,2) for i in range(0,3)],\n",
    "   [random.randint(-2,2) for i in range(0,3)]]\n",
    "eta=1\n",
    "lam=1\n",
    "P=4\n",
    "p=0\n",
    "z=[[0,0,-1],\n",
    "   [0,1,-1],\n",
    "   [1,0,-1],\n",
    "   [1,1,-1]]\n",
    "Emax=0.001\n",
    "d=[0,1,1,0]\n",
    "E=10\n",
    "x=[0,0]\n",
    "y=[0,0,0]\n",
    "o=[0,0,0,0]\n",
    "delok=[0.0,0.0,0.0]\n",
    "deloj=[0,0]\n",
    "cycle=0"
   ]
  },
  {
   "cell_type": "code",
   "execution_count": 143,
   "metadata": {},
   "outputs": [
    {
     "name": "stdout",
     "output_type": "stream",
     "text": [
      "[[2, -2, -1], [2, -2, -1]]\n",
      "====\n",
      "[0, 1, 2]\n"
     ]
    }
   ],
   "source": [
    "print(v)\n",
    "print(\"====\")\n",
    "print(w)"
   ]
  },
  {
   "cell_type": "code",
   "execution_count": 144,
   "metadata": {},
   "outputs": [
    {
     "name": "stdout",
     "output_type": "stream",
     "text": [
      "0.0009999564496093937\n"
     ]
    }
   ],
   "source": [
    "import math\n",
    "while(E>Emax):\n",
    "    cycle=cycle+1\n",
    "    E=0\n",
    "    p=0\n",
    "    while(p<P):\n",
    "        for i in range(0,2):\n",
    "            net=0\n",
    "            for j in range(0,3):\n",
    "                net=net+(v[i][j]*z[p][j])\n",
    "            x[i]=1/(1+math.exp(-net))\n",
    "        for i in range(0,3):\n",
    "            if(i==2):\n",
    "                y[i]=-1\n",
    "                break\n",
    "            y[i]=x[i]\n",
    "        #print(y)\n",
    "        net=0\n",
    "        for j in range(0,3):\n",
    "            net=net+(w[j]*y[j])\n",
    "        #print(net)\n",
    "        o[p]=1/(1+math.exp(-net))\n",
    "        #print(\"o\",p,\"-\",o[p])\n",
    "        for i in range(0,3):\n",
    "            E=E+((d[p]-o[p])*(d[p]-o[p]))/2\n",
    "        delok=(d[p]-o[p])*o[p]*(1-o[p])\n",
    "        \n",
    "        for i in range(0,2):\n",
    "            deloj[i]=delok*w[i]*x[i]*(1-x[i])\n",
    "        #print(\"delk -\",delok,\"delj\",deloj)\n",
    "        for i in range(0,3):\n",
    "            w[i]=w[i]+delok*y[i]\n",
    "\n",
    "        for i in range(0,2):\n",
    "            for j in range(0,3):\n",
    "                v[i][j]=v[i][j]+deloj[i]*z[p][j]\n",
    "        p=p+1\n",
    "        #print(\"==================================================================================\")\n",
    "print(E)\n",
    "    #if(cycle==1):\n",
    "        #break"
   ]
  },
  {
   "cell_type": "code",
   "execution_count": 145,
   "metadata": {},
   "outputs": [
    {
     "data": {
      "text/plain": [
       "[-9.753482712598302, 10.115086008557402, -4.626377415788383]"
      ]
     },
     "execution_count": 145,
     "metadata": {},
     "output_type": "execute_result"
    }
   ],
   "source": [
    "w"
   ]
  },
  {
   "cell_type": "code",
   "execution_count": 146,
   "metadata": {},
   "outputs": [
    {
     "data": {
      "text/plain": [
       "[[6.374401800786702, -6.230982280684529, -3.1439766811976124],\n",
       " [5.98636165044753, -6.192377959625034, 3.2123988036562716]]"
      ]
     },
     "execution_count": 146,
     "metadata": {},
     "output_type": "execute_result"
    }
   ],
   "source": [
    "v"
   ]
  },
  {
   "cell_type": "code",
   "execution_count": 141,
   "metadata": {},
   "outputs": [
    {
     "data": {
      "text/plain": [
       "8104"
      ]
     },
     "execution_count": 141,
     "metadata": {},
     "output_type": "execute_result"
    }
   ],
   "source": [
    "cycle"
   ]
  },
  {
   "cell_type": "code",
   "execution_count": null,
   "metadata": {
    "collapsed": true
   },
   "outputs": [],
   "source": []
  }
 ],
 "metadata": {
  "kernelspec": {
   "display_name": "Python 2",
   "language": "python",
   "name": "python2"
  },
  "language_info": {
   "codemirror_mode": {
    "name": "ipython",
    "version": 2
   },
   "file_extension": ".py",
   "mimetype": "text/x-python",
   "name": "python",
   "nbconvert_exporter": "python",
   "pygments_lexer": "ipython2",
   "version": "2.7.14"
  }
 },
 "nbformat": 4,
 "nbformat_minor": 2
}
