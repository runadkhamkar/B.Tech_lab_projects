{
 "cells": [
  {
   "cell_type": "code",
   "execution_count": 36,
   "metadata": {
    "collapsed": true
   },
   "outputs": [],
   "source": [
    "import numpy as np\n",
    "y=[[0.8,0.5,0,-1],[0.9,0.7,0.3,-1],[1,0.8,0.5,-1],[0,0.2,0.3,-1],[0.2,0.1,1.3,-1],[0.2,0.7,0.8,-1]]\n",
    "d=[1,1,1,-1,-1,-1]\n",
    "w=[0,0,0,0]\n",
    "y=np.asarray(y)\n",
    "d=np.asarray(d)\n",
    "w=np.array(w)"
   ]
  },
  {
   "cell_type": "code",
   "execution_count": 37,
   "metadata": {
    "collapsed": true
   },
   "outputs": [],
   "source": [
    "P=6\n",
    "p=0\n",
    "step=0\n",
    "E=1\n",
    "c=1\n",
    "we=[]\n",
    "e=[]"
   ]
  },
  {
   "cell_type": "code",
   "execution_count": 38,
   "metadata": {},
   "outputs": [
    {
     "name": "stdout",
     "output_type": "stream",
     "text": [
      "yes\n",
      "(array([ 0.8,  0.5,  0. , -1. ]), 0.0, -1, array([ 0.8,  0.5,  0. , -1. ]))\n",
      "(array([ 0.8,  0.5,  0. , -1. ]), 2.0700000000000003, 1, array([ 0.9,  0.7,  0.3, -1. ]))\n",
      "(array([ 0.8,  0.5,  0. , -1. ]), 2.2000000000000002, 1, array([ 1. ,  0.8,  0.5, -1. ]))\n",
      "yes\n",
      "(array([ 0.8,  0.3, -0.3,  0. ]), 1.1000000000000001, 1, array([ 0. ,  0.2,  0.3, -1. ]))\n",
      "(array([ 0.8,  0.3, -0.3,  0. ]), -0.19999999999999998, -1, array([ 0.2,  0.1,  1.3, -1. ]))\n",
      "yes\n",
      "(array([ 0.6, -0.4, -1.1,  1. ]), 0.13, 1, array([ 0.2,  0.7,  0.8, -1. ]))\n",
      "Error is  3.0\n",
      "\n",
      "yes\n",
      "(array([ 1.4,  0.1, -1.1,  0. ]), -0.71999999999999986, -1, array([ 0.8,  0.5,  0. , -1. ]))\n",
      "(array([ 1.4,  0.1, -1.1,  0. ]), 1.0000000000000002, 1, array([ 0.9,  0.7,  0.3, -1. ]))\n",
      "(array([ 1.4,  0.1, -1.1,  0. ]), 0.93000000000000016, 1, array([ 1. ,  0.8,  0.5, -1. ]))\n",
      "(array([ 1.4,  0.1, -1.1,  0. ]), -0.31, -1, array([ 0. ,  0.2,  0.3, -1. ]))\n",
      "(array([ 1.4,  0.1, -1.1,  0. ]), -1.1400000000000001, -1, array([ 0.2,  0.1,  1.3, -1. ]))\n",
      "(array([ 1.4,  0.1, -1.1,  0. ]), -0.53000000000000003, -1, array([ 0.2,  0.7,  0.8, -1. ]))\n",
      "Error is  1.0\n",
      "\n",
      "(array([ 1.4,  0.1, -1.1,  0. ]), 1.1700000000000002, 1, array([ 0.8,  0.5,  0. , -1. ]))\n",
      "(array([ 1.4,  0.1, -1.1,  0. ]), 1.0000000000000002, 1, array([ 0.9,  0.7,  0.3, -1. ]))\n",
      "(array([ 1.4,  0.1, -1.1,  0. ]), 0.93000000000000016, 1, array([ 1. ,  0.8,  0.5, -1. ]))\n",
      "(array([ 1.4,  0.1, -1.1,  0. ]), -0.31, -1, array([ 0. ,  0.2,  0.3, -1. ]))\n",
      "(array([ 1.4,  0.1, -1.1,  0. ]), -1.1400000000000001, -1, array([ 0.2,  0.1,  1.3, -1. ]))\n",
      "(array([ 1.4,  0.1, -1.1,  0. ]), -0.53000000000000003, -1, array([ 0.2,  0.7,  0.8, -1. ]))\n",
      "Error is  0.0\n",
      "\n",
      "Final=  [ 1.4  0.1 -1.1  0. ]\n",
      "Steps Required=  18\n"
     ]
    }
   ],
   "source": [
    "while(E!=0):\n",
    "    p=0\n",
    "    E=0\n",
    "    for p in range(0,P):\n",
    "        step=step+1\n",
    "        #print\"Step=\",step\n",
    "        #print\"y=\",y[p]\n",
    "        net=np.dot(y[p],w)\n",
    "        #print\"Net=\",net\n",
    "        if(net>0):\n",
    "            o=1\n",
    "        elif(net==0):\n",
    "            o=d[p]*(-1)\n",
    "        else:\n",
    "            o=-1\n",
    "        #print\"Output=\",o,\"d=\",d[p]\n",
    "        if(d[p]!=o):\n",
    "            w=w+0.5*c*(d[p]-o)*y[p]\n",
    "            print(\"yes\")\n",
    "        we.append(w[0])\n",
    "        print(w,net,o,y[p])\n",
    "        #print\"Weight is \",w\n",
    "        #print \" \"\n",
    "        E=E+0.5*(d[p]-o)*(d[p]-0)\n",
    "        e.append(E)\n",
    "    print \"Error is \",E\n",
    "    print(\"\")\n",
    "    #print \" \"\n",
    "print \"Final= \",w\n",
    "print \"Steps Required= \",step"
   ]
  },
  {
   "cell_type": "code",
   "execution_count": 35,
   "metadata": {},
   "outputs": [
    {
     "data": {
      "text/plain": [
       "(24L,)"
      ]
     },
     "execution_count": 35,
     "metadata": {},
     "output_type": "execute_result"
    }
   ],
   "source": [
    "we=np.asarray(we)\n",
    "we.shape"
   ]
  },
  {
   "cell_type": "code",
   "execution_count": 29,
   "metadata": {},
   "outputs": [
    {
     "data": {
      "text/plain": [
       "(24L,)"
      ]
     },
     "execution_count": 29,
     "metadata": {},
     "output_type": "execute_result"
    }
   ],
   "source": [
    "e=np.asarray(e)\n",
    "e.shape"
   ]
  },
  {
   "cell_type": "code",
   "execution_count": 32,
   "metadata": {
    "collapsed": true
   },
   "outputs": [],
   "source": [
    "import matplotlib.pyplot as plt"
   ]
  },
  {
   "cell_type": "code",
   "execution_count": 31,
   "metadata": {},
   "outputs": [
    {
     "ename": "NameError",
     "evalue": "name 'plt' is not defined",
     "output_type": "error",
     "traceback": [
      "\u001b[1;31m---------------------------------------------------------------------------\u001b[0m",
      "\u001b[1;31mNameError\u001b[0m                                 Traceback (most recent call last)",
      "\u001b[1;32m<ipython-input-31-2d96913a6bbe>\u001b[0m in \u001b[0;36m<module>\u001b[1;34m()\u001b[0m\n\u001b[1;32m----> 1\u001b[1;33m \u001b[0mplt\u001b[0m\u001b[1;33m.\u001b[0m\u001b[0mplot\u001b[0m\u001b[1;33m(\u001b[0m\u001b[0mwe\u001b[0m\u001b[1;33m,\u001b[0m\u001b[0me\u001b[0m\u001b[1;33m)\u001b[0m\u001b[1;33m\u001b[0m\u001b[0m\n\u001b[0m",
      "\u001b[1;31mNameError\u001b[0m: name 'plt' is not defined"
     ]
    }
   ],
   "source": [
    "plt.plot(we,e)"
   ]
  },
  {
   "cell_type": "code",
   "execution_count": null,
   "metadata": {
    "collapsed": true
   },
   "outputs": [],
   "source": []
  }
 ],
 "metadata": {
  "kernelspec": {
   "display_name": "Python 2",
   "language": "python",
   "name": "python2"
  },
  "language_info": {
   "codemirror_mode": {
    "name": "ipython",
    "version": 2
   },
   "file_extension": ".py",
   "mimetype": "text/x-python",
   "name": "python",
   "nbconvert_exporter": "python",
   "pygments_lexer": "ipython2",
   "version": "2.7.14"
  }
 },
 "nbformat": 4,
 "nbformat_minor": 2
}
