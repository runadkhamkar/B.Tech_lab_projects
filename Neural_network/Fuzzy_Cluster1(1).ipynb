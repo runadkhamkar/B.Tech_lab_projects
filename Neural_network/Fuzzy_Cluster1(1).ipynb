{
 "cells": [
  {
   "cell_type": "code",
   "execution_count": 1,
   "metadata": {
    "collapsed": true
   },
   "outputs": [],
   "source": [
    "import numpy as np"
   ]
  },
  {
   "cell_type": "code",
   "execution_count": 6,
   "metadata": {},
   "outputs": [
    {
     "name": "stdout",
     "output_type": "stream",
     "text": [
      "Total data elements: 150\n",
      "[5.1, 4.9, 4.7, 4.6]\n"
     ]
    }
   ],
   "source": [
    "import csv\n",
    "filename=\"C:\\\\Users\\\\hp\\\\Desktop\\\\student\\\\iris.csv\"\n",
    "f=open(filename,'r')\n",
    "data=[]\n",
    "with f as csvfile:\n",
    "    reader = csv.reader(f, delimiter=',', quoting=csv.QUOTE_NONE)\n",
    "    for row in reader:\n",
    "        data.append(row)\n",
    "data=data[:-2]\n",
    "A=[]\n",
    "leb=[]\n",
    "d=[]\n",
    "print(\"Total data elements:\",len(data))\n",
    "for i in range(0,len(data)):\n",
    "    temp=data[i][:-1]\n",
    "    A.append(temp)\n",
    "    leb.append(data[i][-1])\n",
    "for i in leb:\n",
    "    if(i not in d):\n",
    "        d.append(i)\n",
    "for i in range(0,len(A)):\n",
    "    for j in range(0,len(A[i])):\n",
    "        A[i][j]=float(A[i][j])\n",
    "for i in range(0,len(leb)):\n",
    "    for j in range(0,len(d)):\n",
    "        if(leb[i]==d[j]):\n",
    "            leb[i]=j+1\n"
   ]
  },
  {
   "cell_type": "code",
   "execution_count": 126,
   "metadata": {},
   "outputs": [
    {
     "name": "stdout",
     "output_type": "stream",
     "text": [
      "Enter the Expantion criteria:0.4\n",
      "0.8\n"
     ]
    }
   ],
   "source": [
    "v=[]\n",
    "w=[]\n",
    "Q=float(input(\"Enter the Expantion criteria:\"))\n",
    "n=len(A[0])\n",
    "A=[[0.2,0.2],[0.6,0.6],[0.7,0.7],[0.4,0.7],[0.7,0.4]]\n",
    "nQ=n*Q\n",
    "print(nQ)"
   ]
  },
  {
   "cell_type": "code",
   "execution_count": 127,
   "metadata": {
    "collapsed": true
   },
   "outputs": [],
   "source": [
    "def fun(a):\n",
    "    if(a<0):\n",
    "        return 0\n",
    "    elif(a>1):\n",
    "        return 1\n",
    "    return a"
   ]
  },
  {
   "cell_type": "code",
   "execution_count": 128,
   "metadata": {},
   "outputs": [
    {
     "name": "stdout",
     "output_type": "stream",
     "text": [
      "0.39999999999999997\n",
      "0.20000000000000012\n",
      "0.39999999999999997\n",
      "0.40000000000000024\n",
      "0.20000000000000012\n"
     ]
    }
   ],
   "source": [
    "def memb(p,a,b):\n",
    "    v=1\n",
    "    op=0\n",
    "    for i in range(0,len(p)):\n",
    "        c=fun(v*(p[i]-b[i]))\n",
    "        d=fun(v*abs(b[i]-p[i]))\n",
    "        op+=(1.0-c-d)\n",
    "        print(op)\n",
    "    return op/len(p)\n",
    "print(memb(A[1],[0.2,0.2],[0.2,0.2]))"
   ]
  },
  {
   "cell_type": "code",
   "execution_count": 115,
   "metadata": {},
   "outputs": [
    {
     "name": "stdout",
     "output_type": "stream",
     "text": [
      "Inside loop\n",
      "Inside loop\n",
      "Inside loop\n",
      "Inside loop\n",
      "[[0.8500000000000001, 2], [0.8500000000000001, 3], [0.9, 0], [1.0, 1]]\n",
      "0.29999999999999993\n",
      "0.29999999999999993\n",
      "0.19999999999999996\n",
      "0.0\n",
      "[False]\n",
      "[False]\n"
     ]
    }
   ],
   "source": [
    "def check(p):\n",
    "    temp=[]\n",
    "    temp.append(False)\n",
    "    mem=[]\n",
    "    for i in range(0,len(v)):\n",
    "        print(\"Inside loop\")\n",
    "        x=[]\n",
    "        min1=1\n",
    "        a=memb(p,v[i],w[i])\n",
    "        x.append(a)\n",
    "        x.append(i)\n",
    "        mem.append(x)\n",
    "    mem.sort()\n",
    "    print(mem)\n",
    "    ind=[mem[i][1] for i in range(0,len(mem))]\n",
    "    for i in ind:\n",
    "        sum1=0.0\n",
    "        for j in range(0,len(v[0])):\n",
    "            sum1+=max(w[i][j],p[j])-min(v[i][j],p[j])\n",
    "        print(sum1)\n",
    "        if(nQ<=sum1):\n",
    "            temp[0]=True\n",
    "            temp.append(i)\n",
    "            \n",
    "    print(temp)\n",
    "    return temp\n",
    "print(check(A[1]))"
   ]
  },
  {
   "cell_type": "code",
   "execution_count": 114,
   "metadata": {},
   "outputs": [
    {
     "name": "stdout",
     "output_type": "stream",
     "text": [
      "[]\n",
      "[False]\n",
      "[0.2, 0.2]\n",
      "Min: [[0.2, 0.2]]\n",
      "Max: [[0.2, 0.2]]\n",
      "....................................................\n",
      "Inside loop\n",
      "[[0.6000000000000001, 0]]\n",
      "0.7999999999999999\n",
      "[False]\n",
      "[0.6, 0.6]\n",
      "Min: [[0.2, 0.2], [0.6, 0.6]]\n",
      "Max: [[0.2, 0.2], [0.6, 0.6]]\n",
      "....................................................\n",
      "Inside loop\n",
      "Inside loop\n",
      "[[0.5, 0], [0.9, 1]]\n",
      "0.9999999999999999\n",
      "0.19999999999999996\n",
      "[True, 0]\n",
      "0\n",
      "[0.7, 0.7]\n",
      "Min: [[0.7, 0.7], [0.6, 0.6]]\n",
      "Max: [[0.7, 0.7], [0.6, 0.6]]\n",
      "....................................................\n",
      "Inside loop\n",
      "Inside loop\n",
      "[[0.8500000000000001, 0], [0.8500000000000001, 1]]\n",
      "0.29999999999999993\n",
      "0.29999999999999993\n",
      "[False]\n",
      "[0.4, 0.7]\n",
      "Min: [[0.7, 0.7], [0.6, 0.6], [0.4, 0.7]]\n",
      "Max: [[0.7, 0.7], [0.6, 0.6], [0.4, 0.7]]\n",
      "....................................................\n",
      "Inside loop\n",
      "Inside loop\n",
      "Inside loop\n",
      "[[0.7000000000000001, 2], [0.8500000000000001, 0], [0.8500000000000001, 1]]\n",
      "0.5999999999999999\n",
      "0.29999999999999993\n",
      "0.29999999999999993\n",
      "[False]\n",
      "[0.7, 0.4]\n",
      "Min: [[0.7, 0.7], [0.6, 0.6], [0.4, 0.7], [0.7, 0.4]]\n",
      "Max: [[0.7, 0.7], [0.6, 0.6], [0.4, 0.7], [0.7, 0.4]]\n",
      "....................................................\n"
     ]
    }
   ],
   "source": [
    "for i in range(0,len(A)):\n",
    "    pt=A[i]\n",
    "    l=check(pt)\n",
    "    if(l[0]):\n",
    "        j=l[1]\n",
    "        print(j)\n",
    "        for k in range(0,len(v[j])):\n",
    "            v[j][k]=min(v[j][k],pt[k])\n",
    "            w[j][k]=max(w[j][k],pt[k])\n",
    "    else:\n",
    "        v.append(pt)\n",
    "        w.append(pt)\n",
    "    print(pt)\n",
    "    print(\"Min:\",v)\n",
    "    print(\"Max:\",w)\n",
    "    print(\"....................................................\")"
   ]
  },
  {
   "cell_type": "code",
   "execution_count": 100,
   "metadata": {},
   "outputs": [
    {
     "data": {
      "text/plain": [
       "[[0.4, 0.3]]"
      ]
     },
     "execution_count": 100,
     "metadata": {},
     "output_type": "execute_result"
    }
   ],
   "source": [
    "v"
   ]
  },
  {
   "cell_type": "code",
   "execution_count": 81,
   "metadata": {},
   "outputs": [
    {
     "data": {
      "text/plain": [
       "[0.4, 0.3]"
      ]
     },
     "execution_count": 81,
     "metadata": {},
     "output_type": "execute_result"
    }
   ],
   "source": [
    "A[3]"
   ]
  },
  {
   "cell_type": "code",
   "execution_count": 24,
   "metadata": {},
   "outputs": [
    {
     "data": {
      "text/plain": [
       "[[0, 1], [1, 10], [5, 5]]"
      ]
     },
     "execution_count": 24,
     "metadata": {},
     "output_type": "execute_result"
    }
   ],
   "source": [
    "a=[[0,1],[5,5],[1,10]]\n",
    "a.sort()\n",
    "a"
   ]
  },
  {
   "cell_type": "code",
   "execution_count": null,
   "metadata": {
    "collapsed": true
   },
   "outputs": [],
   "source": []
  }
 ],
 "metadata": {
  "kernelspec": {
   "display_name": "Python 2",
   "language": "python",
   "name": "python2"
  },
  "language_info": {
   "codemirror_mode": {
    "name": "ipython",
    "version": 2
   },
   "file_extension": ".py",
   "mimetype": "text/x-python",
   "name": "python",
   "nbconvert_exporter": "python",
   "pygments_lexer": "ipython2",
   "version": "2.7.14"
  }
 },
 "nbformat": 4,
 "nbformat_minor": 2
}
