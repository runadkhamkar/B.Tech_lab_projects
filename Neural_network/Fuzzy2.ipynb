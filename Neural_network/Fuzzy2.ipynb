{
 "cells": [
  {
   "cell_type": "code",
   "execution_count": 95,
   "metadata": {
    "collapsed": true
   },
   "outputs": [],
   "source": [
    "A=[[0.2,0.2],[0.6,0.6],[0.7,0.7],[0.4,0.7],[0.7,0.4]]\n",
    "theta=0.4\n",
    "V=[]\n",
    "W=[]\n",
    "C=[]\n",
    "col=0\n",
    "delta=1"
   ]
  },
  {
   "cell_type": "markdown",
   "metadata": {},
   "source": [
    "\n",
    "# Expantion:-"
   ]
  },
  {
   "cell_type": "code",
   "execution_count": 96,
   "metadata": {
    "collapsed": true
   },
   "outputs": [],
   "source": [
    "def expand(p,m):\n",
    "    if(len(V)!=0):\n",
    "        for i in range(0,len(V)):\n",
    "            if(V[i][0]<=p[0] and V[i][1]<=p[1]):\n",
    "                if(W[i][0]>=p[0] and W[i][1]>=p[1]):\n",
    "                    print(\"Given point lies inside the hyperBox\")\n",
    "                    return 0\n",
    "    return exp_criteria(p,m) "
   ]
  },
  {
   "cell_type": "markdown",
   "metadata": {},
   "source": [
    "# Exapantion Criteria:-"
   ]
  },
  {
   "cell_type": "code",
   "execution_count": 97,
   "metadata": {
    "collapsed": true
   },
   "outputs": [],
   "source": [
    "def exp_criteria(p,m):\n",
    "    for j in range(0,len(V)):\n",
    "        temp=0\n",
    "        for i in range(0,2):\n",
    "            temp=temp+(max(W[j][i],p[i])-min(V[j][i],p[i]))\n",
    "            #print(\"This is a message : \",(max(W[j][i],p[i]),min(V[j][i],p[i])))\n",
    "        if(2*theta>=temp):\n",
    "            print(\"Exp.crit. satisfied\")\n",
    "            #print(\"Old min-max are-\",V,\"to\",W)\n",
    "            x=[]\n",
    "            y=[]\n",
    "            for k in range(0,2):\n",
    "                x.append(min(V[j][k],p[k]))\n",
    "                y.append(max(W[j][k],p[k]))\n",
    "            if(x):\n",
    "                V[j]=x\n",
    "            if(y):\n",
    "                W[j]=y\n",
    "            print(\"New min-max are-\",V,\"to\",W)\n",
    "            return overlap_test()\n",
    "        print(\"Exp.crit. is not satisfied\")\n",
    "    V.append(p)\n",
    "    W.append(p)\n",
    "    C.append(len(V)-1)\n",
    "    print(\"This is the new h.Box\",V,\"&\",W)\n",
    "    return 0\n",
    "        "
   ]
  },
  {
   "cell_type": "markdown",
   "metadata": {},
   "source": [
    "# Overlap Test:-"
   ]
  },
  {
   "cell_type": "code",
   "execution_count": 98,
   "metadata": {
    "collapsed": true
   },
   "outputs": [],
   "source": [
    "def overlap_test():\n",
    "    t=[]\n",
    "    for k in range(0,len(V)):\n",
    "        for j in range(0,len(V)):\n",
    "            if(k==j):\n",
    "                continue\n",
    "            for i in range(0,2):\n",
    "                temp=delta=1\n",
    "                if(V[j][i]<V[k][i]<W[j][i]<W[k][i]):\n",
    "                    delta=min(delta,(W[j][i]-V[k][i]))\n",
    "                    q=1\n",
    "                if(V[k][i]<V[j][i]<W[k][i]<W[j][i]):\n",
    "                    delta=min(delta,(W[k][i]-V[j][i]))\n",
    "                    q=2\n",
    "                if(V[j][i]<V[k][i]<W[k][i]<W[j][i]):\n",
    "                    delta=min(delta,min((W[j][i]-V[k][i]),(W[k][i]-V[j][i])))\n",
    "                    q=3\n",
    "                if(V[k][i]<V[j][i]<W[j][i]<W[k][i]):\n",
    "                    delta=min(delta,min((W[j][i]-V[k][i]),(W[k][i]-V[j][i])))\n",
    "                    q=3\n",
    "                if(delta!=temp):\n",
    "                    t.append(i)\n",
    "            if(len(t)==2):\n",
    "                for i in range(0,len(t)):\n",
    "                    print(\"overapping hyperboxes :\",k,\"&\",j,\"in dimenstion \",i)\n",
    "                    s=contract(q,t[i],k,j)\n",
    "                return s\n",
    "            return 0"
   ]
  },
  {
   "cell_type": "markdown",
   "metadata": {},
   "source": [
    "# Contraction:-"
   ]
  },
  {
   "cell_type": "code",
   "execution_count": 99,
   "metadata": {
    "collapsed": true
   },
   "outputs": [],
   "source": [
    "def contract(c,i,k,j): \n",
    "    if(c==1):\n",
    "        V[k][i]=W[j][i]=(V[k][i]+W[j][i])/2\n",
    "    if(c==2):\n",
    "        V[j][i]=W[k][i]=(V[j][i]+W[k][i])/2\n",
    "    if(c==3):\n",
    "        if((W[j][i]-V[k][i])<(W[k][i]-V[j][i])):\n",
    "            W[j][i]=V[k][i]\n",
    "        else:\n",
    "            V[j][i]=W[k][i] \n",
    "    if(c==4):\n",
    "        if((W[k][i]-V[j][i])<(W[j][i]-V[k][i])):\n",
    "            W[k][i]=V[j][i]\n",
    "        else:\n",
    "            V[k][i]=W[j][i]\n",
    "    print(\"--------after contraction---------\")\n",
    "    print(\"New min-max are-\",V,\"to\",W)\n",
    "    return 1;    \n",
    "            "
   ]
  },
  {
   "cell_type": "markdown",
   "metadata": {},
   "source": [
    "# Main method:-"
   ]
  },
  {
   "cell_type": "code",
   "execution_count": 100,
   "metadata": {},
   "outputs": [
    {
     "name": "stdout",
     "output_type": "stream",
     "text": [
      "This is the new h.Box [[0.2, 0.2]] & [[0.2, 0.2]]\n",
      "=============================================\n",
      "Exp.crit. satisfied\n",
      "New min-max are- [[0.2, 0.2]] to [[0.6, 0.6]]\n",
      "=============================================\n",
      "Exp.crit. is not satisfied\n",
      "This is the new h.Box [[0.2, 0.2], [0.7, 0.7]] & [[0.6, 0.6], [0.7, 0.7]]\n",
      "=============================================\n",
      "Exp.crit. is not satisfied\n",
      "Exp.crit. satisfied\n",
      "New min-max are- [[0.2, 0.2], [0.4, 0.7]] to [[0.6, 0.6], [0.7, 0.7]]\n",
      "=============================================\n",
      "Exp.crit. is not satisfied\n",
      "Exp.crit. satisfied\n",
      "New min-max are- [[0.2, 0.2], [0.4, 0.4]] to [[0.6, 0.6], [0.7, 0.7]]\n",
      "overapping hyperboxes : 0 & 1 in dimenstion  0\n",
      "--------after contraction---------\n",
      "New min-max are- [[0.2, 0.2], [0.5, 0.4]] to [[0.5, 0.6], [0.7, 0.7]]\n",
      "overapping hyperboxes : 0 & 1 in dimenstion  1\n",
      "--------after contraction---------\n",
      "New min-max are- [[0.2, 0.2], [0.5, 0.5]] to [[0.5, 0.5], [0.7, 0.7]]\n",
      "=============================================\n"
     ]
    }
   ],
   "source": [
    "for j in range(0,len(A)):\n",
    "    p=expand(A[j],i)\n",
    "    print(\"=============================================\")"
   ]
  },
  {
   "cell_type": "code",
   "execution_count": 101,
   "metadata": {},
   "outputs": [
    {
     "data": {
      "image/png": "[encoded data removed]",
      "text/plain": [
       "<matplotlib.figure.Figure at 0x1e344355c50>"
      ]
     },
     "metadata": {},
     "output_type": "display_data"
    }
   ],
   "source": [
    "from matplotlib import pyplot as plt\n",
    "from matplotlib.patches import Rectangle\n",
    "c=['r','g']\n",
    "plt.xlim(0,1)\n",
    "plt.ylim(0,1)\n",
    "currentAxis = plt.gca()\n",
    "for i in range(len(V)):\n",
    "    if(V[i]==W[i]):\n",
    "        plt.scatter(V[i][0],V[i][1],color=c[int(C[i])-1])\n",
    "    else:\n",
    "        currentAxis.add_patch(Rectangle((V[i][0], V[i][1]), W[i][0]-V[i][0],W[i][1]-V[i][1],alpha=1,fill=None,edgecolor=c[int(C[i])-1]))                \n",
    "plt.show()"
   ]
  },
  {
   "cell_type": "code",
   "execution_count": null,
   "metadata": {
    "collapsed": true
   },
   "outputs": [],
   "source": []
  }
 ],
 "metadata": {
  "kernelspec": {
   "display_name": "Python 2",
   "language": "python",
   "name": "python2"
  },
  "language_info": {
   "codemirror_mode": {
    "name": "ipython",
    "version": 2
   },
   "file_extension": ".py",
   "mimetype": "text/x-python",
   "name": "python",
   "nbconvert_exporter": "python",
   "pygments_lexer": "ipython2",
   "version": "2.7.14"
  }
 },
 "nbformat": 4,
 "nbformat_minor": 2
}
