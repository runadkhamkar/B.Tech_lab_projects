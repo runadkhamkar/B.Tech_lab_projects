{
 "cells": [
  {
   "cell_type": "code",
   "execution_count": 1,
   "metadata": {
    "collapsed": true
   },
   "outputs": [],
   "source": [
    "import findspark\n",
    "findspark.init(\"C:\\Spark\")\n",
    "import pyspark\n",
    "from pyspark.sql import SparkSession\n",
    "from pyspark.sql.functions import *\n",
    "ss=SparkSession.builder.appName(\"Assignment\").getOrCreate()"
   ]
  },
  {
   "cell_type": "code",
   "execution_count": 2,
   "metadata": {
    "collapsed": true
   },
   "outputs": [],
   "source": [
    "df=ss.read.csv(\"C:\\Spark\\walmart_stock.csv\",header=True,inferSchema=True)"
   ]
  },
  {
   "cell_type": "code",
   "execution_count": 8,
   "metadata": {},
   "outputs": [
    {
     "name": "stdout",
     "output_type": "stream",
     "text": [
      "root\n",
      " |-- Date: timestamp (nullable = true)\n",
      " |-- Open: double (nullable = true)\n",
      " |-- High: double (nullable = true)\n",
      " |-- Low: double (nullable = true)\n",
      " |-- Close: double (nullable = true)\n",
      " |-- Volume: integer (nullable = true)\n",
      " |-- Adj Close: double (nullable = true)\n",
      "\n"
     ]
    }
   ],
   "source": [
    "df.printSchema()"
   ]
  },
  {
   "cell_type": "code",
   "execution_count": 5,
   "metadata": {},
   "outputs": [
    {
     "data": {
      "text/plain": [
       "[Row(Date=datetime.datetime(2012, 1, 3, 0, 0), Open=59.970001, High=61.060001, Low=59.869999, Close=60.330002, Volume=12668800, Adj Close=52.619234999999996),\n",
       " Row(Date=datetime.datetime(2012, 1, 4, 0, 0), Open=60.209998999999996, High=60.349998, Low=59.470001, Close=59.709998999999996, Volume=9593300, Adj Close=52.078475),\n",
       " Row(Date=datetime.datetime(2012, 1, 5, 0, 0), Open=59.349998, High=59.619999, Low=58.369999, Close=59.419998, Volume=12768200, Adj Close=51.825539),\n",
       " Row(Date=datetime.datetime(2012, 1, 6, 0, 0), Open=59.419998, High=59.450001, Low=58.869999, Close=59.0, Volume=8069400, Adj Close=51.45922),\n",
       " Row(Date=datetime.datetime(2012, 1, 9, 0, 0), Open=59.029999, High=59.549999, Low=58.919998, Close=59.18, Volume=6679300, Adj Close=51.616215000000004)]"
      ]
     },
     "execution_count": 5,
     "metadata": {},
     "output_type": "execute_result"
    }
   ],
   "source": [
    "df.head(5)"
   ]
  },
  {
   "cell_type": "code",
   "execution_count": 7,
   "metadata": {},
   "outputs": [
    {
     "name": "stdout",
     "output_type": "stream",
     "text": [
      "+-------+------------------+-----------------+-----------------+-----------------+\n",
      "|summary|              open|             high|              low|           volume|\n",
      "+-------+------------------+-----------------+-----------------+-----------------+\n",
      "|  count|              1258|             1258|             1258|             1258|\n",
      "|   mean| 72.35785375357709|72.83938807631165| 71.9186009594594|8222093.481717011|\n",
      "| stddev|  6.76809024470826|6.768186808159218|6.744075756255496|  4519780.8431556|\n",
      "|    min|56.389998999999996|        57.060001|        56.299999|          2094900|\n",
      "|    max|         90.800003|        90.970001|            89.25|         80898100|\n",
      "+-------+------------------+-----------------+-----------------+-----------------+\n",
      "\n"
     ]
    }
   ],
   "source": [
    "df.select('open','high','low','volume').describe().show()"
   ]
  },
  {
   "cell_type": "code",
   "execution_count": 15,
   "metadata": {},
   "outputs": [
    {
     "data": {
      "text/plain": [
       "[Row(open=80.059998),\n",
       " Row(open=80.440002),\n",
       " Row(open=80.550003),\n",
       " Row(open=81.16999799999999),\n",
       " Row(open=80.889999)]"
      ]
     },
     "execution_count": 15,
     "metadata": {},
     "output_type": "execute_result"
    }
   ],
   "source": [
    "df.filter('open>80').select('open').take(5)"
   ]
  },
  {
   "cell_type": "code",
   "execution_count": 34,
   "metadata": {},
   "outputs": [
    {
     "name": "stdout",
     "output_type": "stream",
     "text": [
      "+---------+------------------+\n",
      "|max(open)|stddev_samp(close)|\n",
      "+---------+------------------+\n",
      "|90.800003| 6.756859163732991|\n",
      "+---------+------------------+\n",
      "\n"
     ]
    }
   ],
   "source": [
    "df.select(max(df['open']),stddev(df['close'])).show()"
   ]
  },
  {
   "cell_type": "code",
   "execution_count": 39,
   "metadata": {},
   "outputs": [
    {
     "name": "stdout",
     "output_type": "stream",
     "text": [
      "+-------------------+-----------------+---------+---------+---------+-------+---------+\n",
      "|               Date|             Open|     High|      Low|    Close| Volume|Adj Close|\n",
      "+-------------------+-----------------+---------+---------+---------+-------+---------+\n",
      "|2013-12-09 00:00:00|        80.239998|    80.43|79.699997|79.949997|4491600|73.206501|\n",
      "|2015-04-15 00:00:00|80.58000200000001|80.980003|79.650002|79.739998|6200400|75.292681|\n",
      "+-------------------+-----------------+---------+---------+---------+-------+---------+\n",
      "\n"
     ]
    }
   ],
   "source": [
    "df.filter((df['open']>80) & (df['close']<80)).show()"
   ]
  },
  {
   "cell_type": "code",
   "execution_count": 97,
   "metadata": {},
   "outputs": [
    {
     "data": {
      "text/plain": [
       "[Row(open=59.970001, high=61.060001, high*2=122.120002),\n",
       " Row(open=60.209998999999996, high=60.349998, high*2=120.699996),\n",
       " Row(open=59.349998, high=59.619999, high*2=119.239998),\n",
       " Row(open=59.419998, high=59.450001, high*2=118.900002),\n",
       " Row(open=59.029999, high=59.549999, high*2=119.099998)]"
      ]
     },
     "execution_count": 97,
     "metadata": {},
     "output_type": "execute_result"
    }
   ],
   "source": [
    "df1=df.withColumn('high*2',df['high']*2)\n",
    "df1.select(['open','high','high*2']).head(5)"
   ]
  },
  {
   "cell_type": "code",
   "execution_count": 51,
   "metadata": {
    "collapsed": true
   },
   "outputs": [],
   "source": [
    "df.createOrReplaceTempView('walmart')"
   ]
  },
  {
   "cell_type": "code",
   "execution_count": 56,
   "metadata": {},
   "outputs": [
    {
     "name": "stdout",
     "output_type": "stream",
     "text": [
      "+---------+\n",
      "|     open|\n",
      "+---------+\n",
      "|    90.32|\n",
      "|90.800003|\n",
      "+---------+\n",
      "\n"
     ]
    }
   ],
   "source": [
    "ss.sql('select open from walmart where open>90').show()"
   ]
  },
  {
   "cell_type": "code",
   "execution_count": 63,
   "metadata": {},
   "outputs": [
    {
     "name": "stdout",
     "output_type": "stream",
     "text": [
      "+-----------+-------------------+\n",
      "|sum(volume)|               date|\n",
      "+-----------+-------------------+\n",
      "|    8522500|2015-01-09 00:00:00|\n",
      "|    8215400|2015-01-13 00:00:00|\n",
      "+-----------+-------------------+\n",
      "\n"
     ]
    }
   ],
   "source": [
    "ss.sql('select sum(volume),date from walmart where open>90 group by date').show()"
   ]
  },
  {
   "cell_type": "code",
   "execution_count": 68,
   "metadata": {},
   "outputs": [
    {
     "data": {
      "text/plain": [
       "[Row(open=75.110001),\n",
       " Row(open=75.160004),\n",
       " Row(open=75.18),\n",
       " Row(open=75.209999),\n",
       " Row(open=75.260002)]"
      ]
     },
     "execution_count": 68,
     "metadata": {},
     "output_type": "execute_result"
    }
   ],
   "source": [
    "ss.sql('select open from walmart where high<80 and low>75 order by open').head(5)"
   ]
  },
  {
   "cell_type": "code",
   "execution_count": 67,
   "metadata": {},
   "outputs": [
    {
     "name": "stdout",
     "output_type": "stream",
     "text": [
      "+-----------+\n",
      "|count(date)|\n",
      "+-----------+\n",
      "|        346|\n",
      "+-----------+\n",
      "\n"
     ]
    }
   ],
   "source": [
    "ss.sql('select count(date) from walmart where open>75 and close<80').show()"
   ]
  },
  {
   "cell_type": "code",
   "execution_count": 86,
   "metadata": {},
   "outputs": [
    {
     "name": "stdout",
     "output_type": "stream",
     "text": [
      "+--------------------------+\n",
      "|count(DISTINCT year(date))|\n",
      "+--------------------------+\n",
      "|                         5|\n",
      "+--------------------------+\n",
      "\n"
     ]
    }
   ],
   "source": [
    "r=df.select(year(df['date']))\n",
    "r.select(countDistinct('year(date)')).show()\n",
    "r.createOrReplaceTempView('year')\n",
    "l=ss.sql('select distinct(*) from year')"
   ]
  },
  {
   "cell_type": "code",
   "execution_count": 93,
   "metadata": {},
   "outputs": [
    {
     "name": "stdout",
     "output_type": "stream",
     "text": [
      "+----------+\n",
      "|year(date)|\n",
      "+----------+\n",
      "|      2012|\n",
      "|      2013|\n",
      "|      2014|\n",
      "|      2015|\n",
      "|      2016|\n",
      "+----------+\n",
      "\n"
     ]
    }
   ],
   "source": [
    "l.orderBy('year(date)').show()"
   ]
  }
 ],
 "metadata": {
  "kernelspec": {
   "display_name": "Python 3",
   "language": "python",
   "name": "python3"
  },
  "language_info": {
   "codemirror_mode": {
    "name": "ipython",
    "version": 3
   },
   "file_extension": ".py",
   "mimetype": "text/x-python",
   "name": "python",
   "nbconvert_exporter": "python",
   "pygments_lexer": "ipython3",
   "version": "3.7.1"
  }
 },
 "nbformat": 4,
 "nbformat_minor": 2
}
