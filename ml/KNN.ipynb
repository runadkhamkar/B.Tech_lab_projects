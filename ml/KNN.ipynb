{
 "cells": [
  {
   "cell_type": "code",
   "execution_count": 1,
   "metadata": {},
   "outputs": [],
   "source": [
    "import pickle,os\n",
    "from sklearn.neighbors import KNeighborsClassifier\n",
    "from sklearn.neighbors import NearestNeighbors"
   ]
  },
  {
   "cell_type": "code",
   "execution_count": 2,
   "metadata": {},
   "outputs": [],
   "source": [
    "dir1=os.listdir(\"G:\\platform-tools\\MirD\")\n",
    "data=[]\n",
    "for i in dir1:\n",
    "    fn=\"G:\\\\platform-tools\\\\MirD1\\\\\"+str(i)\n",
    "    data.append(pickle.load(open(fn,\"rb\")))"
   ]
  },
  {
   "cell_type": "code",
   "execution_count": 3,
   "metadata": {},
   "outputs": [],
   "source": [
    "X=[]\n",
    "Y=[]\n",
    "for i in data:\n",
    "    for j in i:\n",
    "        if(type(j)==str):\n",
    "            Y.append(j)\n",
    "        else:\n",
    "            X.append(j)"
   ]
  },
  {
   "cell_type": "code",
   "execution_count": 4,
   "metadata": {},
   "outputs": [],
   "source": [
    "X1=[]\n",
    "c=0\n",
    "for i in X:\n",
    "    c+=1\n",
    "    if(len(i)>11):\n",
    "        l=[]\n",
    "        l.append(i[0])\n",
    "        for j in i[1:10]:\n",
    "            l.append(j)\n",
    "        l.append(i[-1])\n",
    "        X1.append(l)\n",
    "    elif(len(i)<11):\n",
    "        l=[]\n",
    "        for j in i[:-1]:\n",
    "            l.append(j)\n",
    "        while(len(l)!=10):\n",
    "            l.append(i[-2])\n",
    "        l.append(i[-1])\n",
    "        X1.append(l)\n",
    "    else:\n",
    "        X1.append(i)"
   ]
  },
  {
   "cell_type": "code",
   "execution_count": 5,
   "metadata": {},
   "outputs": [
    {
     "data": {
      "text/plain": [
       "[143.4224529144583,\n",
       " 184.69434208984313,\n",
       " 238.1517373440723,\n",
       " 216.59178193089414,\n",
       " 238.1517373440723,\n",
       " 145.34441853748635,\n",
       " 141.05672617780408,\n",
       " 216.59178193089414,\n",
       " 196.01020381602586,\n",
       " 116.27553482998907,\n",
       " 130.80997668373772]"
      ]
     },
     "execution_count": 5,
     "metadata": {},
     "output_type": "execute_result"
    }
   ],
   "source": [
    "X1[0]"
   ]
  },
  {
   "cell_type": "code",
   "execution_count": 6,
   "metadata": {},
   "outputs": [
    {
     "name": "stdout",
     "output_type": "stream",
     "text": [
      "11.0\n"
     ]
    }
   ],
   "source": [
    "l=0\n",
    "c=0\n",
    "for i in X1:\n",
    "    l+=len(i)\n",
    "    c+=1\n",
    "print(l/c)"
   ]
  },
  {
   "cell_type": "code",
   "execution_count": 7,
   "metadata": {},
   "outputs": [
    {
     "data": {
      "text/plain": [
       "KNeighborsClassifier(algorithm='auto', leaf_size=30, metric='minkowski',\n",
       "           metric_params=None, n_jobs=None, n_neighbors=5, p=2,\n",
       "           weights='uniform')"
      ]
     },
     "execution_count": 7,
     "metadata": {},
     "output_type": "execute_result"
    }
   ],
   "source": [
    "neigh = KNeighborsClassifier(n_neighbors=5)\n",
    "neigh.fit(X1,Y)"
   ]
  },
  {
   "cell_type": "code",
   "execution_count": 11,
   "metadata": {},
   "outputs": [
    {
     "name": "stdout",
     "output_type": "stream",
     "text": [
      "KNeighborsClassifier(algorithm='auto', leaf_size=30, metric='minkowski',\n",
      "           metric_params=None, n_jobs=None, n_neighbors=5, p=2,\n",
      "           weights='uniform') \n",
      "Accuracy: 59.642857142857146\n"
     ]
    }
   ],
   "source": [
    "pre=neigh.predict(X1)\n",
    "count=0\n",
    "t=0\n",
    "for i in range(0,len(pre)):\n",
    "    t+=1\n",
    "    if(pre[i]==Y[i]):\n",
    "        count+=1\n",
    "print(neigh,\"\\nAccuracy:\",count*100/t)"
   ]
  },
  {
   "cell_type": "code",
   "execution_count": 52,
   "metadata": {},
   "outputs": [],
   "source": [
    "import pickle\n",
    "pickle.dump(neigh,open(\"G:\\platform-tools\\MiracleZ.pickle\",\"wb\"))"
   ]
  },
  {
   "cell_type": "code",
   "execution_count": 19,
   "metadata": {},
   "outputs": [
    {
     "name": "stdout",
     "output_type": "stream",
     "text": [
      "[[ 0.  0.  0.  0.  0.  0.  0.  0.  0.  0.  0.  0.  0.  0.  0.  0.  1.  0.\n",
      "   0.  0.]] stop navigation ['stop navigation']\n"
     ]
    }
   ],
   "source": [
    "print(neigh.predict_proba([X1[0]]),Y[0],neigh.predict([X1[0]]))"
   ]
  },
  {
   "cell_type": "code",
   "execution_count": 22,
   "metadata": {},
   "outputs": [
    {
     "data": {
      "text/plain": [
       "(array([[ 0.]]), array([[0]], dtype=int64))"
      ]
     },
     "execution_count": 22,
     "metadata": {},
     "output_type": "execute_result"
    }
   ],
   "source": [
    "neigh.kneighbors([X1[0]])"
   ]
  },
  {
   "cell_type": "code",
   "execution_count": 29,
   "metadata": {},
   "outputs": [
    {
     "data": {
      "text/plain": [
       "NearestNeighbors(algorithm='auto', leaf_size=30, metric='minkowski',\n",
       "         metric_params=None, n_jobs=None, n_neighbors=1, p=2, radius=1.0)"
      ]
     },
     "execution_count": 29,
     "metadata": {},
     "output_type": "execute_result"
    }
   ],
   "source": [
    "model=NearestNeighbors(n_neighbors=1)\n",
    "model.fit(X1)"
   ]
  },
  {
   "cell_type": "code",
   "execution_count": 32,
   "metadata": {},
   "outputs": [],
   "source": [
    "A=model.kneighbors_graph(X1)"
   ]
  },
  {
   "cell_type": "code",
   "execution_count": 36,
   "metadata": {},
   "outputs": [],
   "source": [
    "B=A.toarray()"
   ]
  },
  {
   "cell_type": "code",
   "execution_count": 40,
   "metadata": {},
   "outputs": [
    {
     "name": "stdout",
     "output_type": "stream",
     "text": [
      ">>>>>>>>\n"
     ]
    }
   ],
   "source": [
    "for i in B[0]:\n",
    "    if(i==1):\n",
    "        print(\">>>>>>>>\")"
   ]
  },
  {
   "cell_type": "code",
   "execution_count": null,
   "metadata": {},
   "outputs": [],
   "source": []
  }
 ],
 "metadata": {
  "kernelspec": {
   "display_name": "Python 3",
   "language": "python",
   "name": "python3"
  },
  "language_info": {
   "codemirror_mode": {
    "name": "ipython",
    "version": 3
   },
   "file_extension": ".py",
   "mimetype": "text/x-python",
   "name": "python",
   "nbconvert_exporter": "python",
   "pygments_lexer": "ipython3",
   "version": "3.7.1"
  }
 },
 "nbformat": 4,
 "nbformat_minor": 2
}
