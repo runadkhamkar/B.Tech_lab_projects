{
 "cells": [
  {
   "cell_type": "code",
   "execution_count": 1,
   "metadata": {},
   "outputs": [
    {
     "name": "stdout",
     "output_type": "stream",
     "text": [
      "Enter how many pages are in system:5\n",
      "Enter delta value:0.18\n"
     ]
    }
   ],
   "source": [
    "n=input(\"Enter how many pages are in system:\")\n",
    "delt=input(\"Enter delta value:\")"
   ]
  },
  {
   "cell_type": "code",
   "execution_count": 11,
   "metadata": {},
   "outputs": [
    {
     "name": "stdout",
     "output_type": "stream",
     "text": [
      "[0, 0, 0, 1, 0, 0, 0, 0, 0, 0, 0]\n",
      "[0, 0, 3, 1, 1, 0, 1, 1, 1, 0, 0]\n",
      "[0, 3, 0, 0, 0, 0, 0, 0, 0, 0, 0]\n",
      "[2, 2, 0, 0, 1, 0, 0, 0, 0, 0, 0]\n",
      "[0, 2, 0, 0, 0, 3, 1, 1, 1, 1, 1]\n",
      "[0, 0, 0, 0, 3, 0, 0, 0, 0, 0, 0]\n",
      "[0, 2, 0, 0, 2, 0, 0, 0, 0, 0, 0]\n",
      "[0, 2, 0, 0, 2, 0, 0, 0, 0, 0, 0]\n",
      "[0, 2, 0, 0, 2, 0, 0, 0, 0, 0, 0]\n",
      "[0, 0, 0, 0, 2, 0, 0, 0, 0, 0, 0]\n",
      "[0, 0, 0, 0, 2, 0, 0, 0, 0, 0, 0]\n"
     ]
    }
   ],
   "source": [
    "for i in data:\n",
    "    print(i)"
   ]
  },
  {
   "cell_type": "code",
   "execution_count": 19,
   "metadata": {
    "collapsed": true
   },
   "outputs": [],
   "source": [
    "Em=0.001\n",
    "E=10\n",
    "p=[1.0/n for i in range(0,n)]\n",
    "cycle=0"
   ]
  },
  {
   "cell_type": "code",
   "execution_count": 20,
   "metadata": {
    "collapsed": true
   },
   "outputs": [],
   "source": [
    "def fun(l,p):\n",
    "    temp=[]\n",
    "    for i in range(0,n):\n",
    "        if(l[i]==1 or l[i]==3):\n",
    "            temp.append(i)\n",
    "    out=[]\n",
    "    for j in temp:\n",
    "        count=0\n",
    "        for k in range(0,n):\n",
    "            if(data[j][k]>=2):\n",
    "                count+=1\n",
    "        out.append(count)\n",
    "    x=0.0\n",
    "    for i in range(0,len(temp)):\n",
    "        x=x+p[temp[i]]/out[i]\n",
    "    x=x*(1-delt)+delt/n\n",
    "    return x"
   ]
  },
  {
   "cell_type": "code",
   "execution_count": 21,
   "metadata": {},
   "outputs": [
    {
     "name": "stdout",
     "output_type": "stream",
     "text": [
      "('Cycle Required:', 16)\n",
      "Page  1 : 0.0425076917007\n",
      "Page  2 : 0.377777398022\n",
      "Page  3 : 0.326141102741\n",
      "Page  4 : 0.0637659435582\n",
      "Page  5 : 0.115615346445\n",
      "Page  6 : 0.0637659284061\n",
      "Page  7 : 0.0163636363636\n",
      "Page  8 : 0.0163636363636\n",
      "Page  9 : 0.0163636363636\n",
      "Page  10 : 0.0163636363636\n",
      "Page  11 : 0.0163636363636\n"
     ]
    }
   ],
   "source": [
    "while(Em<E):\n",
    "    E=0\n",
    "    cycle=cycle+1\n",
    "    for i in range(0,n):\n",
    "        temp=fun(data[i],p)\n",
    "        E=E+abs(p[i]-temp)\n",
    "        p[i]=temp\n",
    "print(\"Cycle Required:\",cycle)\n",
    "c=0\n",
    "for i in p:\n",
    "    c+=1\n",
    "    print\"Page \",c,\":\",i"
   ]
  }
 ],
 "metadata": {
  "anaconda-cloud": {},
  "kernelspec": {
   "display_name": "Python 3",
   "language": "python",
   "name": "python3"
  },
  "language_info": {
   "codemirror_mode": {
    "name": "ipython",
    "version": 3
   },
   "file_extension": ".py",
   "mimetype": "text/x-python",
   "name": "python",
   "nbconvert_exporter": "python",
   "pygments_lexer": "ipython3",
   "version": "3.7.1"
  }
 },
 "nbformat": 4,
 "nbformat_minor": 1
}
