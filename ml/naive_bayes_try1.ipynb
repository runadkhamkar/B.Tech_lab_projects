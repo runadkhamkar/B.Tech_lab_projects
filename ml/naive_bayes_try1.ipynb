{
 "cells": [
  {
   "cell_type": "code",
   "execution_count": 30,
   "metadata": {},
   "outputs": [
    {
     "name": "stdout",
     "output_type": "stream",
     "text": [
      "[0.0, 0.64, 0.64, 0.0, 0.32, 0.0, 0.0, 0.0, 0.0, 0.0, 0.0, 0.64, 0.0, 0.0, 0.0, 0.32, 0.0, 1.29, 1.93, 0.0, 0.96, 0.0, 0.0, 0.0, 0.0, 0.0, 0.0, 0.0, 0.0, 0.0, 0.0, 0.0, 0.0, 0.0, 0.0, 0.0, 0.0, 0.0, 0.0, 0.0, 0.0, 0.0, 0.0, 0.0, 0.0, 0.0, 0.0, 0.0, 0.0, 0.0, 0.0, 0.778, 0.0, 0.0, 3.756, 61.0, 278.0, 1.0]\n"
     ]
    },
    {
     "data": {
      "text/plain": [
       "6.74"
      ]
     },
     "execution_count": 30,
     "metadata": {},
     "output_type": "execute_result"
    }
   ],
   "source": [
    "import csv\n",
    "filename=\"C:\\\\Users\\\\hp\\\\Desktop\\\\New folder (5)\\\\spambase.CSV\"\n",
    "f=open(filename,'r')\n",
    "data=[]\n",
    "with f as csvfile:\n",
    "    reader = csv.reader(f, delimiter=',', quoting=csv.QUOTE_NONE)\n",
    "    for row in reader:\n",
    "        data.append(row)\n",
    "for i in range(0,len(data)):\n",
    "    for j in range(0,len(data[i])):\n",
    "        data[i][j]=float(data[i][j])\n",
    "print(data[0])\n",
    "sum1=0\n",
    "for i in data[0][:48]:\n",
    "    sum1+=i\n",
    "sum1"
   ]
  },
  {
   "cell_type": "code",
   "execution_count": 31,
   "metadata": {},
   "outputs": [],
   "source": [
    "x=[]\n",
    "y=[]\n",
    "for i in data:\n",
    "    x.append(i[:48])\n",
    "    y.append(i[-1])\n",
    "train=x[:3800]\n",
    "tl=y[3800:]\n",
    "test=x[:3800]\n",
    "pre=y[3800:]"
   ]
  },
  {
   "cell_type": "code",
   "execution_count": 32,
   "metadata": {},
   "outputs": [
    {
     "name": "stdout",
     "output_type": "stream",
     "text": [
      "(0.6059552271245382, 0.39404477287546186)\n"
     ]
    }
   ],
   "source": [
    "train1=[x[i] for i in range(0,len(x)) if y[i]==0]\n",
    "train2=[x[i] for i in range(0,len(x)) if y[i]==1]\n",
    "py=float(len(train1))/len(data)\n",
    "pn=float(len(train2))/len(data)\n",
    "print(py,pn)"
   ]
  },
  {
   "cell_type": "code",
   "execution_count": 33,
   "metadata": {},
   "outputs": [
    {
     "name": "stdout",
     "output_type": "stream",
     "text": [
      "48\n"
     ]
    }
   ],
   "source": [
    "likeli=[[0 for i in range(0,len(train1))]for j in range(0,2)]\n",
    "for k in range(0,2):\n",
    "    for i in range(0,len(likeli)):\n",
    "        for j in range(0,len()):\n",
    "            likeli[k][j]+="
   ]
  },
  {
   "cell_type": "code",
   "execution_count": null,
   "metadata": {
    "collapsed": true
   },
   "outputs": [],
   "source": []
  }
 ],
 "metadata": {
  "kernelspec": {
   "display_name": "Python 3",
   "language": "python",
   "name": "python3"
  },
  "language_info": {
   "codemirror_mode": {
    "name": "ipython",
    "version": 3
   },
   "file_extension": ".py",
   "mimetype": "text/x-python",
   "name": "python",
   "nbconvert_exporter": "python",
   "pygments_lexer": "ipython3",
   "version": "3.7.1"
  }
 },
 "nbformat": 4,
 "nbformat_minor": 2
}
