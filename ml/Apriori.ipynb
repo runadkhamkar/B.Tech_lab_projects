{
 "cells": [
  {
   "cell_type": "code",
   "execution_count": 1,
   "metadata": {},
   "outputs": [],
   "source": [
    "import numpy as np\n",
    "from itertools import combinations\n",
    "from itertools import permutations"
   ]
  },
  {
   "cell_type": "code",
   "execution_count": 36,
   "metadata": {},
   "outputs": [
    {
     "name": "stdout",
     "output_type": "stream",
     "text": [
      "Enter total number of transaction:6\n",
      "Enter transaction(Separated by ,)1,3,5\n",
      "Enter transaction(Separated by ,)2,4\n",
      "Enter transaction(Separated by ,)1,2,3\n",
      "Enter transaction(Separated by ,)4,5\n",
      "Enter transaction(Separated by ,)1,2,4\n",
      "Enter transaction(Separated by ,)5,4,2,1\n",
      "[[1, 3, 5], [2, 4], [1, 2, 3], [4, 5], [1, 2, 4], [5, 4, 2, 1]]\n"
     ]
    }
   ],
   "source": [
    "data=[]\n",
    "n=int(input(\"Enter total number of transaction:\"))\n",
    "for i in range(0,n):\n",
    "    temp=[]\n",
    "    temp=input(\"Enter transaction(Separated by ,)\")\n",
    "    temp=[int(a) for a in temp.split(\",\")]\n",
    "    data.append(temp)\n",
    "print(data)"
   ]
  },
  {
   "cell_type": "code",
   "execution_count": null,
   "metadata": {},
   "outputs": [],
   "source": [
    "1,3,4\n",
    "2,3,5\n",
    "1,2,3,5\n",
    "2,5"
   ]
  },
  {
   "cell_type": "code",
   "execution_count": 37,
   "metadata": {},
   "outputs": [
    {
     "name": "stdout",
     "output_type": "stream",
     "text": [
      "Enter the threshold:2\n"
     ]
    }
   ],
   "source": [
    "X=int(input(\"Enter the threshold:\"))"
   ]
  },
  {
   "cell_type": "code",
   "execution_count": 38,
   "metadata": {},
   "outputs": [
    {
     "name": "stdout",
     "output_type": "stream",
     "text": [
      "c1=\n",
      "[[1, 4], [2, 4], [3, 2], [4, 4], [5, 3]]\n",
      "L1= [[1, 4], [2, 4], [3, 2], [4, 4], [5, 3]]\n"
     ]
    }
   ],
   "source": [
    "\n",
    "c1=[]\n",
    "tp=[]\n",
    "for i in range(0,n):\n",
    "    for j in range(0,len(data[i])):\n",
    "        if(data[i][j] not in tp):\n",
    "            tp.append(data[i][j])\n",
    "tp.sort()\n",
    "for i in range(0,len(tp)):\n",
    "    count=0\n",
    "    temp=[]\n",
    "    for j in range(0,n):\n",
    "        for k in range(0,len(data[j])):\n",
    "            if(tp[i]==data[j][k]):\n",
    "                count+=1\n",
    "    temp.append(tp[i])\n",
    "    temp.append(count)\n",
    "    c1.append(temp)\n",
    "c1.sort()\n",
    "print(\"c1=\")\n",
    "print(c1)\n",
    "for i in c1:\n",
    "    if(i[1]<X):\n",
    "        c1.pop(i[0]-1)\n",
    "        tp.pop(i[0]-1)\n",
    "print(\"L1=\",c1) \n",
    "l1=tp"
   ]
  },
  {
   "cell_type": "code",
   "execution_count": 39,
   "metadata": {},
   "outputs": [
    {
     "name": "stdout",
     "output_type": "stream",
     "text": [
      "C2=\n",
      "(1, 2) -> 3\n",
      "(1, 3) -> 2\n",
      "(1, 4) -> 2\n",
      "(1, 5) -> 2\n",
      "(2, 3) -> 1\n",
      "(2, 4) -> 3\n",
      "(2, 5) -> 1\n",
      "(3, 4) -> 0\n",
      "(3, 5) -> 1\n",
      "(4, 5) -> 2\n",
      "[4, 6, 7, 8]\n",
      "L2=\n",
      "(1, 2) -> 3\n",
      "(1, 3) -> 2\n",
      "(1, 4) -> 2\n",
      "(1, 5) -> 2\n",
      "(2, 4) -> 3\n",
      "(4, 5) -> 2\n"
     ]
    }
   ],
   "source": [
    "tp1=list(combinations(tp,2))\n",
    "c=[]\n",
    "for i in range(0,len(tp1)):\n",
    "    count=0\n",
    "    for j in range(0,n):\n",
    "        if(tp1[i][0] in data[j] and tp1[i][1] in data[j]):\n",
    "            count+=1\n",
    "    c.append(count)\n",
    "print(\"C2=\")\n",
    "del1=[]\n",
    "for i in range(0,len(c)):\n",
    "    print(tp1[i],\"->\",c[i])\n",
    "    if(c[i]<X):\n",
    "        del1.append(i)\n",
    "print(del1)\n",
    "temp=0\n",
    "for i in range(0,len(del1)):\n",
    "    k=del1[i]-temp\n",
    "    temp+=1\n",
    "    c.pop(k)\n",
    "    tp1.pop(k)\n",
    "print(\"L2=\")\n",
    "temp=[]\n",
    "for i in range(0,len(c)):\n",
    "    print(tp1[i],\"->\",c[i])\n",
    "    for j in range(0,2):\n",
    "        if(tp1[i][j] not in temp):\n",
    "            temp.append(tp1[i][j])\n",
    "temp.sort()\n",
    "l2=temp"
   ]
  },
  {
   "cell_type": "code",
   "execution_count": 40,
   "metadata": {},
   "outputs": [
    {
     "name": "stdout",
     "output_type": "stream",
     "text": [
      "C3= [(1, 2, 3), (1, 2, 4), (1, 2, 5), (1, 3, 4), (1, 3, 5), (1, 4, 5), (2, 3, 4), (2, 3, 5), (2, 4, 5), (3, 4, 5)] [1, 2, 1, 0, 1, 1, 0, 0, 1, 0]\n",
      "(1, 2, 3) -> 1\n",
      "(1, 2, 4) -> 2\n",
      "(1, 2, 5) -> 1\n",
      "(1, 3, 4) -> 0\n",
      "(1, 3, 5) -> 1\n",
      "(1, 4, 5) -> 1\n",
      "(2, 3, 4) -> 0\n",
      "(2, 3, 5) -> 0\n",
      "(2, 4, 5) -> 1\n",
      "(3, 4, 5) -> 0\n",
      "[0, 2, 3, 4, 5, 6, 7, 8, 9]\n",
      "L2=\n",
      "(1, 2, 4) -> 2\n"
     ]
    }
   ],
   "source": [
    "tp2=list(combinations(temp,3))\n",
    "c=[]\n",
    "for i in range(0,len(tp2)):\n",
    "    count=0\n",
    "    for j in range(0,n):\n",
    "        if(tp2[i][0] in data[j] and tp2[i][1] in data[j] and tp2[i][2] in data[j]):\n",
    "            count+=1\n",
    "    c.append(count)\n",
    "print(\"C3=\",tp2,c)\n",
    "del1=[]\n",
    "for i in range(0,len(c)):\n",
    "    print(tp2[i],\"->\",c[i])\n",
    "    if(c[i]<X):\n",
    "        del1.append(i)\n",
    "print(del1)\n",
    "temp=0\n",
    "for i in range(0,len(del1)):\n",
    "    k=del1[i]-temp\n",
    "    temp+=1\n",
    "    c.pop(k)\n",
    "    tp2.pop(k)\n",
    "print(\"L2=\")\n",
    "temp=[]\n",
    "for i in range(0,len(c)):\n",
    "    print(tp2[i],\"->\",c[i])\n",
    "    for j in range(0,3):\n",
    "        if(tp2[i][j] not in temp):\n",
    "            temp.append(tp2[i][j])\n",
    "temp.sort()\n",
    "l3=temp"
   ]
  },
  {
   "cell_type": "code",
   "execution_count": 41,
   "metadata": {},
   "outputs": [],
   "source": [
    "fl=list(set().union(l1,l2,l3))\n"
   ]
  },
  {
   "cell_type": "code",
   "execution_count": 42,
   "metadata": {},
   "outputs": [],
   "source": [
    "tp3=list(combinations(l3,2))\n",
    "tp4=list(combinations(l3,3))"
   ]
  },
  {
   "cell_type": "code",
   "execution_count": 43,
   "metadata": {},
   "outputs": [
    {
     "name": "stdout",
     "output_type": "stream",
     "text": [
      "[(1, 2), (1, 4), (2, 4)] [(1, 2, 4)]\n"
     ]
    }
   ],
   "source": [
    "print(tp3,tp4)"
   ]
  },
  {
   "cell_type": "code",
   "execution_count": 44,
   "metadata": {},
   "outputs": [
    {
     "data": {
      "text/plain": [
       "[(1, 2), (1, 4), (2, 4)]"
      ]
     },
     "execution_count": 44,
     "metadata": {},
     "output_type": "execute_result"
    }
   ],
   "source": [
    "tp3"
   ]
  },
  {
   "cell_type": "code",
   "execution_count": 45,
   "metadata": {},
   "outputs": [
    {
     "name": "stdout",
     "output_type": "stream",
     "text": [
      "[1, 2, 3, 4, 5] [1, 2, 3, 4, 5] [1, 2, 4]\n"
     ]
    }
   ],
   "source": [
    "print(tp,l2,l3)"
   ]
  },
  {
   "cell_type": "code",
   "execution_count": null,
   "metadata": {},
   "outputs": [],
   "source": []
  },
  {
   "cell_type": "code",
   "execution_count": null,
   "metadata": {},
   "outputs": [],
   "source": []
  },
  {
   "cell_type": "code",
   "execution_count": null,
   "metadata": {},
   "outputs": [],
   "source": []
  }
 ],
 "metadata": {
  "anaconda-cloud": {},
  "kernelspec": {
   "display_name": "Python 3",
   "language": "python",
   "name": "python3"
  },
  "language_info": {
   "codemirror_mode": {
    "name": "ipython",
    "version": 3
   },
   "file_extension": ".py",
   "mimetype": "text/x-python",
   "name": "python",
   "nbconvert_exporter": "python",
   "pygments_lexer": "ipython3",
   "version": "3.7.1"
  }
 },
 "nbformat": 4,
 "nbformat_minor": 1
}
