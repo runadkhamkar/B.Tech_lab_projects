{
 "cells": [
  {
   "cell_type": "code",
   "execution_count": 6,
   "metadata": {},
   "outputs": [],
   "source": [
    "import os\n",
    "import numpy as np\n",
    "from scipy.io import wavfile\n",
    "from python_speech_features import mfcc\n",
    "import matplotlib.pyplot as plt\n",
    "import random"
   ]
  },
  {
   "cell_type": "code",
   "execution_count": 7,
   "metadata": {},
   "outputs": [],
   "source": [
    "path=\"C:\\\\Users\\\\hp\\\\audio\\\\audio\"\n",
    "os.chdir(path)\n",
    "sub=os.listdir()"
   ]
  },
  {
   "cell_type": "code",
   "execution_count": 8,
   "metadata": {},
   "outputs": [
    {
     "data": {
      "text/plain": [
       "['apple', 'banana', 'kiwi', 'lime', 'orange', 'peach', 'pineapple']"
      ]
     },
     "execution_count": 8,
     "metadata": {},
     "output_type": "execute_result"
    }
   ],
   "source": [
    "sub"
   ]
  },
  {
   "cell_type": "code",
   "execution_count": 9,
   "metadata": {},
   "outputs": [
    {
     "name": "stdout",
     "output_type": "stream",
     "text": [
      "7 15 apple01.wav\n"
     ]
    }
   ],
   "source": [
    "data=[]\n",
    "for i in sub:\n",
    "    temp=[]\n",
    "    temp=os.listdir(i)\n",
    "    data.append(temp)\n",
    "print(len(data),len(data[0]),data[0][0])"
   ]
  },
  {
   "cell_type": "code",
   "execution_count": 16,
   "metadata": {},
   "outputs": [
    {
     "name": "stdout",
     "output_type": "stream",
     "text": [
      "<class 'numpy.int16'>\n"
     ]
    },
    {
     "data": {
      "image/png": "[encoded data removed]",
      "text/plain": [
       "<Figure size 432x288 with 1 Axes>"
      ]
     },
     "metadata": {},
     "output_type": "display_data"
    },
    {
     "name": "stdout",
     "output_type": "stream",
     "text": [
      "8000 <class 'numpy.ndarray'>\n"
     ]
    }
   ],
   "source": [
    "a,b=wavfile.read(\"C:\\\\Users\\\\hp\\\\audio\\\\audio\\\\apple\\\\apple01.wav\")\n",
    "print(type(b[0]))\n",
    "plt.plot(b)\n",
    "plt.show()\n",
    "print(a,type(b))"
   ]
  },
  {
   "cell_type": "code",
   "execution_count": 11,
   "metadata": {},
   "outputs": [],
   "source": [
    "files=[]\n",
    "freqs=[]\n",
    "for i in range(0,len(data)):\n",
    "    temp0=np.array([])\n",
    "    for j in range(0,len(data[i])):\n",
    "        file=str(path)+\"\\\\\"+str(sub[i])+\"\\\\\"+str(data[i][j])\n",
    "        files.append(file)\n",
    "        x,y=wavfile.read(file)\n",
    "        freq=mfcc(y,x)\n",
    "        if(len(temp0)==0):\n",
    "            temp0=freq\n",
    "            continue\n",
    "        temp0=np.append(temp0,freq,axis=0)\n",
    "    freqs.append(temp0)"
   ]
  },
  {
   "cell_type": "code",
   "execution_count": 14,
   "metadata": {},
   "outputs": [
    {
     "data": {
      "text/plain": [
       "array([ 17.81719936, -10.74092646, -22.58503373, -47.04925495,\n",
       "       -53.47287267,  22.48117611,  -6.65671888,  -1.3685922 ,\n",
       "         7.56368333,  16.55307928,   0.80242043,   4.0401713 ,\n",
       "         5.46108873])"
      ]
     },
     "execution_count": 14,
     "metadata": {},
     "output_type": "execute_result"
    }
   ],
   "source": [
    "freq[0]"
   ]
  },
  {
   "cell_type": "code",
   "execution_count": 12,
   "metadata": {},
   "outputs": [
    {
     "data": {
      "text/plain": [
       "(600, 13)"
      ]
     },
     "execution_count": 12,
     "metadata": {},
     "output_type": "execute_result"
    }
   ],
   "source": [
    "freqs[0].shape"
   ]
  },
  {
   "cell_type": "code",
   "execution_count": 44,
   "metadata": {},
   "outputs": [],
   "source": [
    "from hmmlearn.hmm import GaussianHMM as Gh"
   ]
  },
  {
   "cell_type": "code",
   "execution_count": 45,
   "metadata": {},
   "outputs": [],
   "source": [
    "models=[]\n",
    "def build(data):\n",
    "    model=Gh(n_components=4,covariance_type=\"diag\",n_iter=1000)\n",
    "    m1=model.fit(data)\n",
    "    models.append(m1)"
   ]
  },
  {
   "cell_type": "code",
   "execution_count": 46,
   "metadata": {},
   "outputs": [
    {
     "name": "stdout",
     "output_type": "stream",
     "text": [
      "E:7\n",
      "Total models build: 7\n",
      "apple\n",
      "banana\n",
      "kiwi\n",
      "lime\n",
      "orange\n",
      "peach\n",
      "pineapple\n"
     ]
    }
   ],
   "source": [
    "u=int(input(\"E:\"))\n",
    "for i in range(0,u):\n",
    "    build(freqs[i])\n",
    "print(\"Total models build:\",len(models))\n",
    "for i in range(0,u):\n",
    "    print(sub[i])"
   ]
  },
  {
   "cell_type": "code",
   "execution_count": 47,
   "metadata": {},
   "outputs": [
    {
     "data": {
      "text/plain": [
       "-2947.16158089852"
      ]
     },
     "execution_count": 47,
     "metadata": {},
     "output_type": "execute_result"
    }
   ],
   "source": [
    "def score1(model,data):\n",
    "    s=model.score(data)\n",
    "    return s\n",
    "score1(models[0],freq)"
   ]
  },
  {
   "cell_type": "code",
   "execution_count": 51,
   "metadata": {},
   "outputs": [
    {
     "name": "stdout",
     "output_type": "stream",
     "text": [
      "[-2610.0119074206714, -2768.23739661262, -1765.5843562035357, -2741.6718457416105, -2758.3866749803287, -1964.4336085687478, -2426.7634631081223]\n",
      "Original: C:\\Users\\hp\\audio\\audio\\kiwi\\kiwi01.wav \n",
      "Pridicted: kiwi\n"
     ]
    }
   ],
   "source": [
    "def test(data):\n",
    "    a,b=wavfile.read(data)\n",
    "    y=mfcc(b,a)\n",
    "    scp=[]\n",
    "    for i in range(0,len(models)):\n",
    "        sc=score1(models[i],y)\n",
    "        scp.append(sc)\n",
    "    x=max(scp)\n",
    "    print(scp)\n",
    "    for i in range(0,len(scp)):\n",
    "        if(scp[i]==x):\n",
    "            print(\"Original:\",data,\"\\nPridicted:\",sub[i])\n",
    "test(str(path)+\"\\\\\"+str(sub[2])+\"\\\\\"+str(data[2][0]))"
   ]
  },
  {
   "cell_type": "code",
   "execution_count": 49,
   "metadata": {},
   "outputs": [
    {
     "name": "stdout",
     "output_type": "stream",
     "text": [
      "Enter number of tests:5\n",
      "Original: C:\\Users\\hp\\audio\\audio\\lime\\lime02.wav \n",
      "Pridicted: lime\n",
      "Original: C:\\Users\\hp\\audio\\audio\\orange\\orange02.wav \n",
      "Pridicted: orange\n",
      "Original: C:\\Users\\hp\\audio\\audio\\lime\\lime01.wav \n",
      "Pridicted: lime\n",
      "Original: C:\\Users\\hp\\audio\\audio\\banana\\banana04.wav \n",
      "Pridicted: banana\n",
      "Original: C:\\Users\\hp\\audio\\audio\\pineapple\\pineapple07.wav \n",
      "Pridicted: pineapple\n"
     ]
    }
   ],
   "source": [
    "n=int(input(\"Enter number of tests:\"))\n",
    "for i in range(0,n):\n",
    "    j=random.randint(0,6)\n",
    "    k=random.randint(0,6)\n",
    "    test(str(path)+\"\\\\\"+str(sub[j])+\"\\\\\"+str(data[j][k]))"
   ]
  },
  {
   "cell_type": "code",
   "execution_count": 52,
   "metadata": {},
   "outputs": [
    {
     "name": "stderr",
     "output_type": "stream",
     "text": [
      "WARNING:root:frame length (1200) is greater than FFT size (512), frame will be truncated. Increase NFFT to avoid.\n"
     ]
    },
    {
     "name": "stdout",
     "output_type": "stream",
     "text": [
      "[-72699.74104168253, -85130.14666312559, -91368.09200906171, -86148.62053531838, -79574.7439134871, -96513.73761543694, -79702.30770910326]\n",
      "Original: G:\\platform-tools\\Voice 003.wav \n",
      "Pridicted: apple\n"
     ]
    }
   ],
   "source": [
    "test(\"G:\\\\platform-tools\\\\Voice 003.wav\")"
   ]
  },
  {
   "cell_type": "code",
   "execution_count": null,
   "metadata": {
    "collapsed": true
   },
   "outputs": [],
   "source": []
  }
 ],
 "metadata": {
  "kernelspec": {
   "display_name": "Python 3",
   "language": "python",
   "name": "python3"
  },
  "language_info": {
   "codemirror_mode": {
    "name": "ipython",
    "version": 3
   },
   "file_extension": ".py",
   "mimetype": "text/x-python",
   "name": "python",
   "nbconvert_exporter": "python",
   "pygments_lexer": "ipython3",
   "version": "3.6.8"
  }
 },
 "nbformat": 4,
 "nbformat_minor": 2
}
