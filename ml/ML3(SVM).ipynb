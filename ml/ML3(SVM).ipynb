{
 "cells": [
  {
   "cell_type": "code",
   "execution_count": 40,
   "metadata": {
    "collapsed": true
   },
   "outputs": [],
   "source": [
    "import numpy as np\n",
    "import sklearn\n",
    "from skimage import io\n",
    "import os\n",
    "import random\n",
    "from sklearn.svm import SVC\n",
    "clf=SVC(gamma=0.001,C=100)"
   ]
  },
  {
   "cell_type": "code",
   "execution_count": 41,
   "metadata": {
    "collapsed": true
   },
   "outputs": [],
   "source": [
    "name=[]\n",
    "label=['A','B','C','D','E','F','G','H','I','J']\n",
    "for i in range(0,10):\n",
    "    str1=\"C:\\\\Users\\\\hp\\\\Desktop\\\\New folder (5)\\\\notMNIST_small\\\\\"+label[i]\n",
    "    d=os.listdir(str1)\n",
    "    name.append(d)"
   ]
  },
  {
   "cell_type": "code",
   "execution_count": 42,
   "metadata": {
    "collapsed": true
   },
   "outputs": [],
   "source": [
    "x=[[]for j in range(0,2000)]\n",
    "y=[]\n",
    "for i in range(0,10):\n",
    "    for j in range(0,200):\n",
    "        str1=\"C:\\\\Users\\\\hp\\\\Desktop\\\\New folder (5)\\\\notMNIST_small\\\\\"+label[i]+\"\\\\\"+name[i][j]\n",
    "        y.append(i)\n",
    "        img1=io.imread(str1)\n",
    "        for k in range(0,28):\n",
    "            for l in range(0,28):\n",
    "                x[i*200+j].append(img1[k][l])"
   ]
  },
  {
   "cell_type": "code",
   "execution_count": 43,
   "metadata": {},
   "outputs": [],
   "source": [
    "train=[]\n",
    "train_l=[]\n",
    "for i in range(0,10):\n",
    "    for j in range(0,200):\n",
    "        if(j<180):\n",
    "            train.append(x[i*200+j])\n",
    "            train_l.append(y[i*200+j])"
   ]
  },
  {
   "cell_type": "code",
   "execution_count": 44,
   "metadata": {},
   "outputs": [
    {
     "name": "stdout",
     "output_type": "stream",
     "text": [
      "Accuracy: 91.1\n"
     ]
    }
   ],
   "source": [
    "a=clf.fit(train,train_l)\n",
    "g=0.0\n",
    "for i in range(0,2000):\n",
    "    if(clf.predict([x[i]])==y[i]):\n",
    "        g=g+1\n",
    "print \"Accuracy:\",g/20"
   ]
  }
 ],
 "metadata": {
  "kernelspec": {
   "display_name": "Python 3",
   "language": "python",
   "name": "python3"
  },
  "language_info": {
   "codemirror_mode": {
    "name": "ipython",
    "version": 3
   },
   "file_extension": ".py",
   "mimetype": "text/x-python",
   "name": "python",
   "nbconvert_exporter": "python",
   "pygments_lexer": "ipython3",
   "version": "3.6.5"
  }
 },
 "nbformat": 4,
 "nbformat_minor": 2
}
