{
 "cells": [
  {
   "cell_type": "code",
   "execution_count": 1,
   "metadata": {},
   "outputs": [
    {
     "name": "stderr",
     "output_type": "stream",
     "text": [
      "C:\\Users\\hp\\Anaconda2\\lib\\site-packages\\sklearn\\cross_validation.py:41: DeprecationWarning: This module was deprecated in version 0.18 in favor of the model_selection module into which all the refactored classes and functions are moved. Also note that the interface of the new CV iterators are different from that of this module. This module will be removed in 0.20.\n",
      "  \"This module will be removed in 0.20.\", DeprecationWarning)\n"
     ]
    }
   ],
   "source": [
    "import numpy as np\n",
    "from sklearn.cross_validation import train_test_split"
   ]
  },
  {
   "cell_type": "code",
   "execution_count": 3,
   "metadata": {},
   "outputs": [],
   "source": [
    "datafile=open('C:\\\\Users\\\\hp\\\\Desktop\\\\New folder (5)\\\\spambase.data','r')\n",
    "data=[]\n",
    "for line in datafile:\n",
    "    line=[float(element) for element in line.rstrip('\\n').split(',')]\n",
    "    data.append(np.asarray(line))\n",
    "    \n",
    "num_features=48\n",
    "X=[data[i][:num_features] for i in range(len(data))]\n",
    "Y=[int(data[i][-1]) for i in range(len(data))]\n"
   ]
  },
  {
   "cell_type": "code",
   "execution_count": 4,
   "metadata": {
    "collapsed": true
   },
   "outputs": [],
   "source": [
    "X_train,X_test,Y_train,Y_test = train_test_split(X,Y,test_size=0.25)"
   ]
  },
  {
   "cell_type": "code",
   "execution_count": 5,
   "metadata": {
    "collapsed": true
   },
   "outputs": [],
   "source": [
    "X_train_class_0=[X_train[i] for i in range(len(X_train)) if Y_train[i]==0]\n",
    "X_train_class_1=[X_train[i] for i in range(len(X_train)) if Y_train[i]==1]"
   ]
  },
  {
   "cell_type": "code",
   "execution_count": 6,
   "metadata": {
    "collapsed": true
   },
   "outputs": [],
   "source": [
    "likelihoods_class_0 = np.mean(X_train_class_0,axis=0)/100.0\n",
    "likelihoods_class_1 = np.mean(X_train_class_1,axis=0)/100.0"
   ]
  },
  {
   "cell_type": "code",
   "execution_count": 14,
   "metadata": {},
   "outputs": [
    {
     "data": {
      "text/plain": [
       "1.5"
      ]
     },
     "execution_count": 14,
     "metadata": {},
     "output_type": "execute_result"
    }
   ],
   "source": [
    "np.mean([2,1],axis=0)"
   ]
  },
  {
   "cell_type": "code",
   "execution_count": 7,
   "metadata": {
    "collapsed": true
   },
   "outputs": [],
   "source": [
    "def calculate_log_likelihoods_with_naive_bayes(feature_vector,Class):\n",
    "    assert len(feature_vector)==num_features\n",
    "    log_likelihood=0.0\n",
    "    if Class==0:\n",
    "        for feature_index in range(len(feature_vector)):\n",
    "            if feature_vector[feature_index]==1:\n",
    "                log_likelihood += np.log10(likelihoods_class_0[feature_index])\n",
    "            elif feature_vector[feature_index] == 0:\n",
    "                log_likelihood += np.log10(1.0 - likelihoods_class_0[feature_index])\n",
    "    elif Class==1:\n",
    "        for feature_index in range(len(feature_vector)):\n",
    "            if feature_vector[feature_index]==1:\n",
    "                log_likelihood += np.log10(likelihoods_class_1[feature_index])\n",
    "            elif feature_vector[feature_index] == 0:\n",
    "                log_likelihood += np.log10(1.0 - likelihoods_class_1[feature_index])\n",
    "    else:\n",
    "        raise ValueError(\"Class takes integer values 0 or 1\")\n",
    "    return log_likelihood\n",
    "\n",
    "                "
   ]
  },
  {
   "cell_type": "code",
   "execution_count": 8,
   "metadata": {},
   "outputs": [
    {
     "name": "stderr",
     "output_type": "stream",
     "text": [
      "C:\\Users\\hp\\Anaconda2\\lib\\site-packages\\ipykernel_launcher.py:13: RuntimeWarning: divide by zero encountered in log10\n",
      "  del sys.path[0]\n"
     ]
    }
   ],
   "source": [
    "num_class_0=float(len(X_train_class_0))\n",
    "num_class_1=float(len(X_train_class_1))\n",
    "\n",
    "prior_probability_class_0=num_class_0/(num_class_0+num_class_1)\n",
    "prior_probability_class_1=num_class_1/(num_class_0+num_class_1)\n",
    "\n",
    "log_prior_class_0=np.log10(prior_probability_class_0)\n",
    "log_prior_class_1=np.log10(prior_probability_class_1)\n",
    "\n",
    "def calculate_class_posteriori(feature_vector):\n",
    "    log_likelihood_class_0=calculate_log_likelihoods_with_naive_bayes(feature_vector,Class=0)\n",
    "    log_likelihood_class_1=calculate_log_likelihoods_with_naive_bayes(feature_vector,Class=1)\n",
    "    \n",
    "    log_posterior_class_0=log_likelihood_class_0+log_prior_class_0\n",
    "    log_posterior_class_1=log_likelihood_class_1+log_prior_class_1\n",
    "    \n",
    "    return log_posterior_class_0,log_posterior_class_1\n",
    "\n",
    "def classify_spam(document_vector):\n",
    "    feature_vector=[int(element>0.0) for element in document_vector]\n",
    "    log_posterior_class_0,log_posterior_class_1=calculate_class_posteriori(feature_vector)\n",
    "    if log_posterior_class_0>log_posterior_class_1:\n",
    "        return 0\n",
    "    else :\n",
    "        return 1\n",
    "    \n",
    "predictions=[]\n",
    "for email in X_test:\n",
    "    predictions.append(classify_spam(email))\n",
    "    \n",
    "def evaluate_performance(predictions,ground_truth_labels):\n",
    "    correct_count=0.0\n",
    "    for item_index in range(len(predictions)):\n",
    "        if predictions[item_index]==ground_truth_labels[item_index]:\n",
    "            correct_count+=1.0\n",
    "    accuracy=correct_count/len(predictions)\n",
    "    return accuracy"
   ]
  },
  {
   "cell_type": "code",
   "execution_count": 9,
   "metadata": {},
   "outputs": [
    {
     "name": "stdout",
     "output_type": "stream",
     "text": [
      "0.890529973936\n"
     ]
    }
   ],
   "source": [
    "accuracy_of_naive_bayes=evaluate_performance(predictions,Y_test)\n",
    "print (accuracy_of_naive_bayes)"
   ]
  },
  {
   "cell_type": "code",
   "execution_count": null,
   "metadata": {
    "collapsed": true
   },
   "outputs": [],
   "source": []
  }
 ],
 "metadata": {
  "kernelspec": {
   "display_name": "Python 3",
   "language": "python",
   "name": "python3"
  },
  "language_info": {
   "codemirror_mode": {
    "name": "ipython",
    "version": 3
   },
   "file_extension": ".py",
   "mimetype": "text/x-python",
   "name": "python",
   "nbconvert_exporter": "python",
   "pygments_lexer": "ipython3",
   "version": "3.7.1"
  }
 },
 "nbformat": 4,
 "nbformat_minor": 2
}
